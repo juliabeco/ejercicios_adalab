{
 "cells": [
  {
   "cell_type": "code",
   "execution_count": 3,
   "id": "f6c1681d",
   "metadata": {},
   "outputs": [],
   "source": [
    "var1 = 8\n",
    "var2 = 2\n",
    "var3 = 8"
   ]
  },
  {
   "cell_type": "code",
   "execution_count": 6,
   "id": "c80659f3",
   "metadata": {},
   "outputs": [
    {
     "name": "stdout",
     "output_type": "stream",
     "text": [
      "es enorme\n"
     ]
    }
   ],
   "source": [
    "if var1 > 6:\n",
    "    print('es enorme')"
   ]
  },
  {
   "cell_type": "code",
   "execution_count": 9,
   "id": "7470be99",
   "metadata": {},
   "outputs": [],
   "source": [
    "if var2 > 6:\n",
    "    print('es enorme también')"
   ]
  },
  {
   "cell_type": "code",
   "execution_count": 10,
   "id": "9fabf71d",
   "metadata": {},
   "outputs": [
    {
     "name": "stdout",
     "output_type": "stream",
     "text": [
      "es enorme\n",
      "pero de verdad\n"
     ]
    }
   ],
   "source": [
    "if var3 > 6:\n",
    "    print('es enorme')\n",
    "    print('pero de verdad')"
   ]
  },
  {
   "cell_type": "code",
   "execution_count": 11,
   "id": "6c09b022",
   "metadata": {},
   "outputs": [
    {
     "name": "stdout",
     "output_type": "stream",
     "text": [
      "son iguales\n"
     ]
    }
   ],
   "source": [
    "if var1 == var3:\n",
    "    print('son iguales')"
   ]
  },
  {
   "cell_type": "code",
   "execution_count": 12,
   "id": "f2aef2c9",
   "metadata": {},
   "outputs": [],
   "source": [
    "if var1 == var2:\n",
    "    print('son iguales')"
   ]
  },
  {
   "cell_type": "code",
   "execution_count": 13,
   "id": "1ca0ce14",
   "metadata": {},
   "outputs": [
    {
     "name": "stdout",
     "output_type": "stream",
     "text": [
      "la diferencia es:6\n"
     ]
    }
   ],
   "source": [
    "if var1 >= var2:\n",
    "    diferencia = var1 - var2\n",
    "    print(f'la diferencia es:{diferencia}')"
   ]
  },
  {
   "cell_type": "code",
   "execution_count": 14,
   "id": "830f45c8",
   "metadata": {},
   "outputs": [
    {
     "name": "stdout",
     "output_type": "stream",
     "text": [
      "es enorme\n"
     ]
    }
   ],
   "source": [
    "if var1 > 6:\n",
    "    print('es enorme')\n",
    "else:\n",
    "    print('es chiquitin')"
   ]
  },
  {
   "cell_type": "code",
   "execution_count": 15,
   "id": "4e857006",
   "metadata": {},
   "outputs": [
    {
     "name": "stdout",
     "output_type": "stream",
     "text": [
      "es chiquitin\n"
     ]
    }
   ],
   "source": [
    "if var2 > 6:\n",
    "    print('es enorme')\n",
    "else:\n",
    "    print('es chiquitin')"
   ]
  },
  {
   "cell_type": "code",
   "execution_count": 4,
   "id": "dbc04faf",
   "metadata": {},
   "outputs": [
    {
     "name": "stdout",
     "output_type": "stream",
     "text": [
      "son iguales\n"
     ]
    }
   ],
   "source": [
    "if var1 == var3:\n",
    "    print('son iguales')\n",
    "else:\n",
    "    print('son distintos')"
   ]
  },
  {
   "cell_type": "code",
   "execution_count": 8,
   "id": "b2692bd0",
   "metadata": {},
   "outputs": [
    {
     "name": "stdout",
     "output_type": "stream",
     "text": [
      "Gratis\n"
     ]
    }
   ],
   "source": [
    "edad = int(input('por favor indique su edad:'))\n",
    "if edad < 4:\n",
    "    print('Gratis')\n",
    "elif edad < 18:\n",
    "    print('5€')\n",
    "else:\n",
    "    print('10€')"
   ]
  },
  {
   "cell_type": "code",
   "execution_count": 17,
   "id": "4dc8d94b",
   "metadata": {},
   "outputs": [
    {
     "name": "stdout",
     "output_type": "stream",
     "text": [
      "5€\n"
     ]
    }
   ],
   "source": [
    "edad = int(input('por favor indique su edad:'))\n",
    "if edad < 4:\n",
    "    print('Gratis')\n",
    "elif edad < 18:\n",
    "    print('5€')\n",
    "else:\n",
    "    print('10€')"
   ]
  },
  {
   "cell_type": "code",
   "execution_count": 19,
   "id": "83b06439",
   "metadata": {},
   "outputs": [
    {
     "name": "stdout",
     "output_type": "stream",
     "text": [
      "nuestros ahorros son:5\n",
      "nuestros ahorros son:10\n",
      "nuestros ahorros son:15\n",
      "nuestros ahorros son:20\n"
     ]
    }
   ],
   "source": [
    "ahorros = 5\n",
    "while ahorros <= 20:\n",
    "    print(f'nuestros ahorros son:{ahorros}')\n",
    "    ahorros += 5"
   ]
  },
  {
   "cell_type": "code",
   "execution_count": 49,
   "id": "e0d5099b",
   "metadata": {},
   "outputs": [
    {
     "name": "stdout",
     "output_type": "stream",
     "text": [
      "186.8\n",
      "Fahrenheit\n"
     ]
    }
   ],
   "source": [
    "#grados_Celsius = True\n",
    "#grados_Fahrenheit = False\n",
    "grados = str(input('Desde que unidades va a convertir la temperatura, Celsius o Fahrenheit.?'))\n",
    "grados_valor = int(input('Cuál es valor de la temperatura que quiere convertir: '))\n",
    "\n",
    "#if grados == \"Celsius\":\n",
    "#    grados_Celsius = True\n",
    "if grados == \"Celsius\":\n",
    "    print((grados_valor * 1.8) + 32) #si te dan celsuis lo conviertes a faher\n",
    "    print('Fahrenheit')\n",
    "else:\n",
    "    print((grados_valor / (1.8)) + 32)\n",
    "    print('Celsius')"
   ]
  },
  {
   "cell_type": "code",
   "execution_count": 51,
   "id": "b7aa939a",
   "metadata": {},
   "outputs": [
    {
     "name": "stdout",
     "output_type": "stream",
     "text": [
      "186.8\n",
      "Fahrenheit\n"
     ]
    }
   ],
   "source": [
    "grados = str(input('Desde que unidades va a convertir la temperatura, Celsius o Fahrenheit.?'))\n",
    "grados_valor = int(input('Cuál es valor de la temperatura que quiere convertir: '))\n",
    "\n",
    "if grados == \"Celsius\":\n",
    "    print((grados_valor * 1.8) + 32)\n",
    "    print('Fahrenheit')\n",
    "else:\n",
    "    print((grados_valor / (1.8)) + 32)\n",
    "    print('Celsius')"
   ]
  },
  {
   "cell_type": "code",
   "execution_count": 57,
   "id": "54f8c987",
   "metadata": {},
   "outputs": [],
   "source": [
    "ingreso = int(input('intruduzca el ingreso anual.'))\n",
    "marital_status = str(input('ingrese su estado civil (S) o (C)'))\n",
    "\n",
    "if marital_status == \"S\":\n",
    "    if ingreso <= 9875:\n",
    "        Tax_soltero = (ingreso * (0.1))\n",
    "        #print(f'señ@ soltero su impuesto es:{ingreso}')\n"
   ]
  },
  {
   "cell_type": "code",
   "execution_count": null,
   "id": "e98a229c",
   "metadata": {},
   "outputs": [],
   "source": [
    "numero_secreto = 7\n",
    "intento = 0\n",
    "\n",
    "while intento != numero_secreto:\n",
    "    intento = int(input('aduvina el numero entre (entre 1 y 10): ')) #cuando hay imput recordamos que se abre el desplegable arriba para que pongamos el numero\n",
    "#esto nos retorna un strin\n",
    "    if intento < numero_secreto:\n",
    "        print('demasiado bajo')\n",
    "    elif intento > numero_secreto:\n",
    "        print('demasiado alto')\n",
    "\n",
    "print('correcto, has adivinado el numero')\n",
    "\n",
    "#crea las dos variable y guarda el 7 y el 0\n",
    "#mientras que el intento sea diferente del numero secreto, ejecuta esto en buvle hasta que esto sea Falso\n",
    "#"
   ]
  }
 ],
 "metadata": {
  "kernelspec": {
   "display_name": "Python 3",
   "language": "python",
   "name": "python3"
  },
  "language_info": {
   "codemirror_mode": {
    "name": "ipython",
    "version": 3
   },
   "file_extension": ".py",
   "mimetype": "text/x-python",
   "name": "python",
   "nbconvert_exporter": "python",
   "pygments_lexer": "ipython3",
   "version": "3.13.3"
  }
 },
 "nbformat": 4,
 "nbformat_minor": 5
}
