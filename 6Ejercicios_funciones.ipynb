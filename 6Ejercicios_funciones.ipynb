{
 "cells": [
  {
   "cell_type": "markdown",
   "id": "c15e5dec",
   "metadata": {},
   "source": [
    "Calcular el área de un círculo.\n",
    "\n",
    "    Descripción: Crea una función llamada calcular_area_circulo que tome el radio como parámetro y devuelva el área del círculo.\n",
    "\n",
    "    NOTA: Os dejamos aquí un link para recordar comose calculaba el área de un círculo.\n",
    "    \n",
    "\n",
    "    area = pi * r2"
   ]
  },
  {
   "cell_type": "code",
   "execution_count": null,
   "id": "4d2549ea",
   "metadata": {},
   "outputs": [],
   "source": [
    "# crear funcion con nombre y parametro\n",
    "\n",
    "def calcular_area_circulo(radio):\n",
    "    \n",
    "    return area"
   ]
  },
  {
   "cell_type": "code",
   "execution_count": 2,
   "id": "f2be4d0e",
   "metadata": {},
   "outputs": [
    {
     "data": {
      "text/plain": [
       "50.24"
      ]
     },
     "execution_count": 2,
     "metadata": {},
     "output_type": "execute_result"
    }
   ],
   "source": [
    "#formula de area del circulo ---cuerpo\n",
    "radio = 4\n",
    "\n",
    "area = 3.14 * (radio**2)\n",
    "\n",
    "area"
   ]
  },
  {
   "cell_type": "code",
   "execution_count": 3,
   "id": "618b19a4",
   "metadata": {},
   "outputs": [
    {
     "data": {
      "text/plain": [
       "50.24"
      ]
     },
     "execution_count": 3,
     "metadata": {},
     "output_type": "execute_result"
    }
   ],
   "source": [
    "16* 3.14"
   ]
  },
  {
   "cell_type": "code",
   "execution_count": 1,
   "id": "53a2ed70",
   "metadata": {},
   "outputs": [
    {
     "data": {
      "text/plain": [
       "4"
      ]
     },
     "execution_count": 1,
     "metadata": {},
     "output_type": "execute_result"
    }
   ],
   "source": [
    "2**2"
   ]
  },
  {
   "cell_type": "code",
   "execution_count": 4,
   "id": "b741d871",
   "metadata": {},
   "outputs": [],
   "source": [
    "#unir funcion base y cuerpo\n",
    "def calcular_area_circulo(radio):\n",
    "    area = 3.14 * (radio**2)\n",
    "    return area"
   ]
  },
  {
   "cell_type": "code",
   "execution_count": 5,
   "id": "98bfe1d9",
   "metadata": {},
   "outputs": [
    {
     "data": {
      "text/plain": [
       "50.24"
      ]
     },
     "execution_count": 5,
     "metadata": {},
     "output_type": "execute_result"
    }
   ],
   "source": [
    "calcular_area_circulo(4)"
   ]
  },
  {
   "cell_type": "markdown",
   "id": "61b83e06",
   "metadata": {},
   "source": [
    "Contar la cantidad de caracteres en una cadena.\n",
    "\n",
    "    Descripción: Crea una función llamada contar_caracteres que tome una cadena como parámetro y devuelva la cantidad de caracteres que contiene."
   ]
  },
  {
   "cell_type": "code",
   "execution_count": null,
   "id": "412a34b5",
   "metadata": {},
   "outputs": [],
   "source": [
    "#definir funcion\n",
    "\n",
    "def contar_caracteres(cadena):\n",
    "\n",
    "    return resultado"
   ]
  },
  {
   "cell_type": "code",
   "execution_count": null,
   "id": "769d9a26",
   "metadata": {},
   "outputs": [
    {
     "data": {
      "text/plain": [
       "12"
      ]
     },
     "execution_count": 6,
     "metadata": {},
     "output_type": "execute_result"
    }
   ],
   "source": [
    "#cuerpo\n",
    "cadena = \"hola que tal\"\n",
    "\n",
    "len(cadena)"
   ]
  },
  {
   "cell_type": "code",
   "execution_count": 7,
   "id": "6e1dfc2d",
   "metadata": {},
   "outputs": [],
   "source": [
    "#funcion y cuerpo\n",
    "\n",
    "def contar_caracteres(cadena):\n",
    "    resultado = len(cadena)\n",
    "    return resultado"
   ]
  },
  {
   "cell_type": "code",
   "execution_count": 8,
   "id": "2e07b2c0",
   "metadata": {},
   "outputs": [
    {
     "data": {
      "text/plain": [
       "14"
      ]
     },
     "execution_count": 8,
     "metadata": {},
     "output_type": "execute_result"
    }
   ],
   "source": [
    "contar_caracteres(\"buenas que tal\")"
   ]
  },
  {
   "cell_type": "markdown",
   "id": "6c2ed30d",
   "metadata": {},
   "source": [
    "Determinar si una cadena es un palíndromo.\n",
    "\n",
    "    Descripción: Crea una función llamada es_palindromo que tome una cadena como parámetro y devuelva True si es un palíndromo, o False si no lo es."
   ]
  },
  {
   "cell_type": "code",
   "execution_count": null,
   "id": "c4a06be9",
   "metadata": {},
   "outputs": [],
   "source": [
    "#funcion base\n",
    "\n",
    "def es_palindromo(cadena):\n",
    "    \n",
    "    return resultado\n"
   ]
  },
  {
   "cell_type": "code",
   "execution_count": 10,
   "id": "6d866b60",
   "metadata": {},
   "outputs": [],
   "source": [
    "#cuerpo\n",
    "ejemplo = \"reconocer\"\n",
    "ejemplo2 =\"No subas, abusón\"\n",
    "\n",
    "\n"
   ]
  },
  {
   "cell_type": "code",
   "execution_count": 12,
   "id": "a289dbe4",
   "metadata": {},
   "outputs": [
    {
     "data": {
      "text/plain": [
       "'reconocer'"
      ]
     },
     "execution_count": 12,
     "metadata": {},
     "output_type": "execute_result"
    }
   ],
   "source": [
    "ejemplo_r = ejemplo[::-1]\n",
    "ejemplo_r"
   ]
  },
  {
   "cell_type": "code",
   "execution_count": 13,
   "id": "445fd519",
   "metadata": {},
   "outputs": [
    {
     "data": {
      "text/plain": [
       "'nósuba ,sabus oN'"
      ]
     },
     "execution_count": 13,
     "metadata": {},
     "output_type": "execute_result"
    }
   ],
   "source": [
    "ejemplo2_r = ejemplo2[::-1]\n",
    "ejemplo2_r"
   ]
  },
  {
   "cell_type": "code",
   "execution_count": 14,
   "id": "f77b1775",
   "metadata": {},
   "outputs": [
    {
     "data": {
      "text/plain": [
       "False"
      ]
     },
     "execution_count": 14,
     "metadata": {},
     "output_type": "execute_result"
    }
   ],
   "source": [
    "#cuerpo\n",
    "ejemplo2_r = ejemplo2[::-1]\n",
    "resultado = ejemplo2 == ejemplo2_r\n",
    "resultado\n",
    " "
   ]
  },
  {
   "cell_type": "code",
   "execution_count": 16,
   "id": "564a09b1",
   "metadata": {},
   "outputs": [
    {
     "data": {
      "text/plain": [
       "False"
      ]
     },
     "execution_count": 16,
     "metadata": {},
     "output_type": "execute_result"
    }
   ],
   "source": [
    "#funcion base + cuerpo\n",
    "\n",
    "def es_palindromo(cadena):\n",
    "    cadena_r = cadena[::-1]\n",
    "    resultado = cadena == cadena_r\n",
    "    return resultado\n",
    "\n",
    "es_palindromo(\"hola\")"
   ]
  },
  {
   "cell_type": "code",
   "execution_count": null,
   "id": "a2f443b2",
   "metadata": {},
   "outputs": [
    {
     "data": {
      "text/plain": [
       "True"
      ]
     },
     "execution_count": 29,
     "metadata": {},
     "output_type": "execute_result"
    }
   ],
   "source": [
    "#llevar a minuscula  --- hasta aca ok \n",
    "\n",
    "\n",
    "def es_palindromo(cadena):\n",
    "    cadena_r = cadena[::-1]\n",
    "    resultado = cadena.lower() == cadena_r.lower()\n",
    "    return resultado\n",
    "\n",
    "es_palindromo(\"RecoNoCer\")"
   ]
  },
  {
   "cell_type": "code",
   "execution_count": null,
   "id": "271378c6",
   "metadata": {},
   "outputs": [
    {
     "data": {
      "text/plain": [
       "False"
      ]
     },
     "execution_count": 21,
     "metadata": {},
     "output_type": "execute_result"
    }
   ],
   "source": [
    "#eliminar espacios\n",
    "\n",
    "def es_palindromo(cadena):\n",
    "    cadena = cadena.strip() # no sirve p espacios en el centro\n",
    "    cadena_r = cadena[::-1]\n",
    "    resultado = cadena.lower() == cadena_r.lower()\n",
    "    return resultado\n",
    "\n",
    "es_palindromo(\"RecoN oCer\")"
   ]
  },
  {
   "cell_type": "code",
   "execution_count": null,
   "id": "6fe336c8",
   "metadata": {},
   "outputs": [],
   "source": []
  },
  {
   "cell_type": "code",
   "execution_count": 28,
   "id": "233d4e84",
   "metadata": {},
   "outputs": [
    {
     "name": "stdout",
     "output_type": "stream",
     "text": [
      "\n"
     ]
    }
   ],
   "source": [
    "cadena = \" Hoy es , sabado\"\n",
    "cadena_nueva = \"\"\n",
    "\n",
    "for letra in cadena:\n",
    "    if letra in [\" \", \",\"]:\n",
    "        pass # continue cualquier opcioon resuelve\n",
    "    else:\n",
    "        cadena_nueva.join(letra)\n",
    "        \n",
    "print(cadena_nueva)"
   ]
  }
 ],
 "metadata": {
  "kernelspec": {
   "display_name": "base",
   "language": "python",
   "name": "python3"
  },
  "language_info": {
   "codemirror_mode": {
    "name": "ipython",
    "version": 3
   },
   "file_extension": ".py",
   "mimetype": "text/x-python",
   "name": "python",
   "nbconvert_exporter": "python",
   "pygments_lexer": "ipython3",
   "version": "3.12.3"
  }
 },
 "nbformat": 4,
 "nbformat_minor": 5
}
